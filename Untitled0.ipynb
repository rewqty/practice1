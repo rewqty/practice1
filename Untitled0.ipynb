{
  "cells": [
    {
      "cell_type": "code",
      "execution_count": 1,
      "metadata": {
        "colab": {
          "base_uri": "https://localhost:8080/"
        },
        "id": "Yjf3MkbBM66b",
        "outputId": "95918d25-e4b4-4ecf-a0fa-a1ec8d7c4ae1"
      },
      "outputs": [
        {
          "output_type": "execute_result",
          "data": {
            "text/plain": [
              "array([[0.42554818, 0.40278091, 0.99198319, 0.4869111 ],\n",
              "       [0.11312387, 0.6763587 , 0.97138553, 0.87299198],\n",
              "       [0.41517619, 0.22805389, 0.15043611, 0.89644273],\n",
              "       [0.85410276, 0.60276214, 0.54905973, 0.76386195]])"
            ]
          },
          "metadata": {},
          "execution_count": 1
        }
      ],
      "source": [
        "import numpy as np\n",
        "import torch as tc\n",
        "import pdb\n",
        "np.random.random((4,4))"
      ]
    },
    {
      "cell_type": "code",
      "execution_count": null,
      "metadata": {
        "colab": {
          "base_uri": "https://localhost:8080/"
        },
        "id": "nNffqxLhNbM7",
        "outputId": "6bf52f56-b45e-4e71-d6df-4584a027f599"
      },
      "outputs": [
        {
          "name": "stdout",
          "output_type": "stream",
          "text": [
            "CPU times: user 7.17 s, sys: 2.61 s, total: 9.79 s\n",
            "Wall time: 12 s\n"
          ]
        }
      ],
      "source": [
        "%time matrix = tc.randn((10000, 10000))"
      ]
    },
    {
      "cell_type": "code",
      "execution_count": null,
      "metadata": {
        "colab": {
          "base_uri": "https://localhost:8080/"
        },
        "id": "D-mrSMmNPzuf",
        "outputId": "fada7c51-f18c-41ab-bfde-f2a486a263db"
      },
      "outputs": [
        {
          "name": "stdout",
          "output_type": "stream",
          "text": [
            "CPU times: user 5.08 ms, sys: 1.59 ms, total: 6.67 ms\n",
            "Wall time: 6.05 ms\n"
          ]
        },
        {
          "data": {
            "text/plain": [
              "tensor([[  46.6968,   -5.8027,   16.5232,  ...,  326.4736,    4.9078,\n",
              "           67.1690],\n",
              "        [-113.7556,   32.8536, -118.6842,  ...,  209.0524, -110.3250,\n",
              "          249.3601],\n",
              "        [ -14.6986, -345.0221,  319.3455,  ..., -289.0632,  107.7587,\n",
              "         -101.4402],\n",
              "        ...,\n",
              "        [   9.9703,   47.3587, -253.6856,  ...,   -9.3081,   39.0126,\n",
              "          358.7060],\n",
              "        [ 198.0143,  -21.0419, -244.3148,  ...,  146.9295, -140.9925,\n",
              "          -28.5122],\n",
              "        [-229.3296,  235.4471,  155.2443,  ...,   12.9184,   99.9974,\n",
              "          147.7548]], device='cuda:0')"
            ]
          },
          "execution_count": 5,
          "metadata": {},
          "output_type": "execute_result"
        }
      ],
      "source": [
        "%time tc.matmul(matrix, matrix)"
      ]
    },
    {
      "cell_type": "markdown",
      "metadata": {
        "id": "EK5Llgf7YAUG"
      },
      "source": [
        "### Собственный класс \"Нейрон\"\n",
        "Реализуйте класс \"Нейрон\", у которого будет несколько методов: \n",
        "\n",
        "* ``__init__``. Принимает на вход массив весов нейрона --- $w = (w_1, \\ldots, w_n)$, а также функцию активации $f$ (по умолчанию $f(x) = x$). Сохраняет веса и функцию внутри класса.\n",
        "\n",
        "* ``forward``. Принимает на вход массив $x = (x_1, \\ldots, x_N)$ --- входы нейрона. Возвращает $f(w_1x_1 + \\ldots + w_nx_n)$.\n",
        "\n",
        "* ``backlog``. Возвращает последний массив $x$, который подавался функции ``forward`` на вход. \n",
        "\n",
        "Если у вас появились трудности, информация по созданию своих классов есть здесь: https://pythonworld.ru/osnovy/obektno-orientirovannoe-programmirovanie-obshhee-predstavlenie.html"
      ]
    },
    {
      "cell_type": "code",
      "execution_count": 7,
      "metadata": {
        "id": "ZuEwlbDkQIPj"
      },
      "outputs": [],
      "source": [
        "class Neuron:\n",
        "  def __init__(self, w, f = lambda x: x):\n",
        "    self.w = w\n",
        "    self.f = f\n",
        "    self.x = []\n",
        "  \n",
        "  def forward(self, x):\n",
        "    self.x = x\n",
        "    sum = 0\n",
        "    for i in range(len(x)):\n",
        "      sum += x[i] * self.w[i]\n",
        "    return self.f(sum)\n",
        "\n",
        "  def backlog(self):\n",
        "    return self.x\n",
        "\n",
        "\n",
        "class SomeClass:\n",
        "  def __init__(self, f = lambda x: x):\n",
        "    self.neuron = Neuron([2,2,2], f)\n",
        "\n",
        "  def printClass(self):\n",
        "    print(self.neuron)"
      ]
    },
    {
      "cell_type": "code",
      "source": [
        "some = SomeClass(lambda x: x ** 2)\n",
        "print(some.neuron.w)\n",
        "print(some.neuron.forward([3, 4, 5]))\n",
        "print(some.neuron.backlog())"
      ],
      "metadata": {
        "colab": {
          "base_uri": "https://localhost:8080/"
        },
        "id": "ssnC_za6SKj0",
        "outputId": "07dbfdd3-e4a4-4b52-a930-c3bb53b4c438"
      },
      "execution_count": 8,
      "outputs": [
        {
          "output_type": "stream",
          "name": "stdout",
          "text": [
            "[2, 2, 2]\n",
            "576\n",
            "[3, 4, 5]\n"
          ]
        }
      ]
    },
    {
      "cell_type": "code",
      "source": [
        "!mkdir practice_1"
      ],
      "metadata": {
        "id": "DGEF4hYaUPad"
      },
      "execution_count": 11,
      "outputs": []
    },
    {
      "cell_type": "code",
      "source": [
        "!cd practice_1"
      ],
      "metadata": {
        "id": "V-cjbYWjVJk-"
      },
      "execution_count": 15,
      "outputs": []
    },
    {
      "cell_type": "code",
      "source": [
        "!git init\n",
        "!cp /content/practice_1/Untitled.ipynb ."
      ],
      "metadata": {
        "colab": {
          "base_uri": "https://localhost:8080/"
        },
        "id": "nkGUoYukVVZ6",
        "outputId": "068de155-09bf-4edc-fb02-51829d42fe88"
      },
      "execution_count": 16,
      "outputs": [
        {
          "output_type": "stream",
          "name": "stdout",
          "text": [
            "Reinitialized existing Git repository in /content/.git/\n",
            "cp: cannot stat '/content/practice_1/Untitled.ipynb': No such file or directory\n"
          ]
        }
      ]
    }
  ],
  "metadata": {
    "colab": {
      "provenance": []
    },
    "gpuClass": "standard",
    "kernelspec": {
      "display_name": "Python 3",
      "name": "python3"
    },
    "language_info": {
      "name": "python"
    }
  },
  "nbformat": 4,
  "nbformat_minor": 0
}